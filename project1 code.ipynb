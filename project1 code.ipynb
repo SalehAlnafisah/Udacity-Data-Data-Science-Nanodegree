{
 "cells": [
  {
   "cell_type": "markdown",
   "metadata": {},
   "source": [
    "# Business Understanding"
   ]
  },
  {
   "cell_type": "markdown",
   "metadata": {},
   "source": [
    "Sometimes when I am planning to visit a new city I go through the Airbnb website and look at the difference between the properties and i do sort my search based on some features like the price,location and properties type, so I am excited to work on the Airbnb data of Seattle to answer these below questions were posed: "
   ]
  },
  {
   "cell_type": "markdown",
   "metadata": {},
   "source": [
    "- Is the priece ralated to the property type?\n",
    "- What's the most amenities prefernce?\n",
    "- Does some additions amenities make the property higher price?\n",
    "- Is the price affected by seasons?"
   ]
  },
  {
   "cell_type": "markdown",
   "metadata": {},
   "source": [
    "### Exploratory Data Analysis\n"
   ]
  },
  {
   "cell_type": "markdown",
   "metadata": {},
   "source": [
    "##### Prepare Data \n"
   ]
  },
  {
   "cell_type": "markdown",
   "metadata": {},
   "source": [
    "To get started, let's import our libraries."
   ]
  },
  {
   "cell_type": "code",
   "execution_count": 1,
   "metadata": {},
   "outputs": [],
   "source": [
    "# import the necessary libraries\n",
    "import pandas as pd\n",
    "import numpy as np\n",
    "import matplotlib.pyplot as plt\n",
    "import seaborn as sns\n",
    "import folium\n",
    "import re\n",
    "import geopandas as gpd\n",
    "import contextily  as cx\n",
    "import plotly.express as px"
   ]
  },
  {
   "cell_type": "code",
   "execution_count": 9,
   "metadata": {},
   "outputs": [],
   "source": [
    "# read the data set\n",
    "df1 = pd.read_csv(r\"C:\\Users\\sinafisah\\Desktop\\project1\\calendar.csv\")\n",
    "#df2 = pd.read_csv(r\"C:\\Users\\sinafisah\\Desktop\\project1\\reviews.csv\") \n",
    "df2 = pd.read_csv(r\"C:\\Users\\sinafisah\\Desktop\\project1\\listings.csv\") "
   ]
  },
  {
   "cell_type": "code",
   "execution_count": 6,
   "metadata": {},
   "outputs": [
    {
     "data": {
      "text/html": [
       "<div>\n",
       "<style scoped>\n",
       "    .dataframe tbody tr th:only-of-type {\n",
       "        vertical-align: middle;\n",
       "    }\n",
       "\n",
       "    .dataframe tbody tr th {\n",
       "        vertical-align: top;\n",
       "    }\n",
       "\n",
       "    .dataframe thead th {\n",
       "        text-align: right;\n",
       "    }\n",
       "</style>\n",
       "<table border=\"1\" class=\"dataframe\">\n",
       "  <thead>\n",
       "    <tr style=\"text-align: right;\">\n",
       "      <th></th>\n",
       "      <th>listing_id</th>\n",
       "      <th>date</th>\n",
       "      <th>available</th>\n",
       "      <th>price</th>\n",
       "    </tr>\n",
       "  </thead>\n",
       "  <tbody>\n",
       "    <tr>\n",
       "      <th>0</th>\n",
       "      <td>241032</td>\n",
       "      <td>2016-01-04</td>\n",
       "      <td>t</td>\n",
       "      <td>$85.00</td>\n",
       "    </tr>\n",
       "    <tr>\n",
       "      <th>1</th>\n",
       "      <td>241032</td>\n",
       "      <td>2016-01-05</td>\n",
       "      <td>t</td>\n",
       "      <td>$85.00</td>\n",
       "    </tr>\n",
       "    <tr>\n",
       "      <th>2</th>\n",
       "      <td>241032</td>\n",
       "      <td>2016-01-06</td>\n",
       "      <td>f</td>\n",
       "      <td>NaN</td>\n",
       "    </tr>\n",
       "    <tr>\n",
       "      <th>3</th>\n",
       "      <td>241032</td>\n",
       "      <td>2016-01-07</td>\n",
       "      <td>f</td>\n",
       "      <td>NaN</td>\n",
       "    </tr>\n",
       "    <tr>\n",
       "      <th>4</th>\n",
       "      <td>241032</td>\n",
       "      <td>2016-01-08</td>\n",
       "      <td>f</td>\n",
       "      <td>NaN</td>\n",
       "    </tr>\n",
       "  </tbody>\n",
       "</table>\n",
       "</div>"
      ],
      "text/plain": [
       "   listing_id        date available   price\n",
       "0      241032  2016-01-04         t  $85.00\n",
       "1      241032  2016-01-05         t  $85.00\n",
       "2      241032  2016-01-06         f     NaN\n",
       "3      241032  2016-01-07         f     NaN\n",
       "4      241032  2016-01-08         f     NaN"
      ]
     },
     "execution_count": 6,
     "metadata": {},
     "output_type": "execute_result"
    }
   ],
   "source": [
    "df1.head(5)"
   ]
  },
  {
   "cell_type": "code",
   "execution_count": 10,
   "metadata": {},
   "outputs": [
    {
     "data": {
      "text/html": [
       "<div>\n",
       "<style scoped>\n",
       "    .dataframe tbody tr th:only-of-type {\n",
       "        vertical-align: middle;\n",
       "    }\n",
       "\n",
       "    .dataframe tbody tr th {\n",
       "        vertical-align: top;\n",
       "    }\n",
       "\n",
       "    .dataframe thead th {\n",
       "        text-align: right;\n",
       "    }\n",
       "</style>\n",
       "<table border=\"1\" class=\"dataframe\">\n",
       "  <thead>\n",
       "    <tr style=\"text-align: right;\">\n",
       "      <th></th>\n",
       "      <th>id</th>\n",
       "      <th>listing_url</th>\n",
       "      <th>scrape_id</th>\n",
       "      <th>last_scraped</th>\n",
       "      <th>name</th>\n",
       "      <th>summary</th>\n",
       "      <th>space</th>\n",
       "      <th>description</th>\n",
       "      <th>experiences_offered</th>\n",
       "      <th>neighborhood_overview</th>\n",
       "      <th>...</th>\n",
       "      <th>review_scores_value</th>\n",
       "      <th>requires_license</th>\n",
       "      <th>license</th>\n",
       "      <th>jurisdiction_names</th>\n",
       "      <th>instant_bookable</th>\n",
       "      <th>cancellation_policy</th>\n",
       "      <th>require_guest_profile_picture</th>\n",
       "      <th>require_guest_phone_verification</th>\n",
       "      <th>calculated_host_listings_count</th>\n",
       "      <th>reviews_per_month</th>\n",
       "    </tr>\n",
       "  </thead>\n",
       "  <tbody>\n",
       "    <tr>\n",
       "      <th>0</th>\n",
       "      <td>241032</td>\n",
       "      <td>https://www.airbnb.com/rooms/241032</td>\n",
       "      <td>20160104002432</td>\n",
       "      <td>2016-01-04</td>\n",
       "      <td>Stylish Queen Anne Apartment</td>\n",
       "      <td>NaN</td>\n",
       "      <td>Make your self at home in this charming one-be...</td>\n",
       "      <td>Make your self at home in this charming one-be...</td>\n",
       "      <td>none</td>\n",
       "      <td>NaN</td>\n",
       "      <td>...</td>\n",
       "      <td>10.0</td>\n",
       "      <td>f</td>\n",
       "      <td>NaN</td>\n",
       "      <td>WASHINGTON</td>\n",
       "      <td>f</td>\n",
       "      <td>moderate</td>\n",
       "      <td>f</td>\n",
       "      <td>f</td>\n",
       "      <td>2</td>\n",
       "      <td>4.07</td>\n",
       "    </tr>\n",
       "    <tr>\n",
       "      <th>1</th>\n",
       "      <td>953595</td>\n",
       "      <td>https://www.airbnb.com/rooms/953595</td>\n",
       "      <td>20160104002432</td>\n",
       "      <td>2016-01-04</td>\n",
       "      <td>Bright &amp; Airy Queen Anne Apartment</td>\n",
       "      <td>Chemically sensitive? We've removed the irrita...</td>\n",
       "      <td>Beautiful, hypoallergenic apartment in an extr...</td>\n",
       "      <td>Chemically sensitive? We've removed the irrita...</td>\n",
       "      <td>none</td>\n",
       "      <td>Queen Anne is a wonderful, truly functional vi...</td>\n",
       "      <td>...</td>\n",
       "      <td>10.0</td>\n",
       "      <td>f</td>\n",
       "      <td>NaN</td>\n",
       "      <td>WASHINGTON</td>\n",
       "      <td>f</td>\n",
       "      <td>strict</td>\n",
       "      <td>t</td>\n",
       "      <td>t</td>\n",
       "      <td>6</td>\n",
       "      <td>1.48</td>\n",
       "    </tr>\n",
       "    <tr>\n",
       "      <th>2</th>\n",
       "      <td>3308979</td>\n",
       "      <td>https://www.airbnb.com/rooms/3308979</td>\n",
       "      <td>20160104002432</td>\n",
       "      <td>2016-01-04</td>\n",
       "      <td>New Modern House-Amazing water view</td>\n",
       "      <td>New modern house built in 2013.  Spectacular s...</td>\n",
       "      <td>Our house is modern, light and fresh with a wa...</td>\n",
       "      <td>New modern house built in 2013.  Spectacular s...</td>\n",
       "      <td>none</td>\n",
       "      <td>Upper Queen Anne is a charming neighborhood fu...</td>\n",
       "      <td>...</td>\n",
       "      <td>10.0</td>\n",
       "      <td>f</td>\n",
       "      <td>NaN</td>\n",
       "      <td>WASHINGTON</td>\n",
       "      <td>f</td>\n",
       "      <td>strict</td>\n",
       "      <td>f</td>\n",
       "      <td>f</td>\n",
       "      <td>2</td>\n",
       "      <td>1.15</td>\n",
       "    </tr>\n",
       "    <tr>\n",
       "      <th>3</th>\n",
       "      <td>7421966</td>\n",
       "      <td>https://www.airbnb.com/rooms/7421966</td>\n",
       "      <td>20160104002432</td>\n",
       "      <td>2016-01-04</td>\n",
       "      <td>Queen Anne Chateau</td>\n",
       "      <td>A charming apartment that sits atop Queen Anne...</td>\n",
       "      <td>NaN</td>\n",
       "      <td>A charming apartment that sits atop Queen Anne...</td>\n",
       "      <td>none</td>\n",
       "      <td>NaN</td>\n",
       "      <td>...</td>\n",
       "      <td>NaN</td>\n",
       "      <td>f</td>\n",
       "      <td>NaN</td>\n",
       "      <td>WASHINGTON</td>\n",
       "      <td>f</td>\n",
       "      <td>flexible</td>\n",
       "      <td>f</td>\n",
       "      <td>f</td>\n",
       "      <td>1</td>\n",
       "      <td>NaN</td>\n",
       "    </tr>\n",
       "    <tr>\n",
       "      <th>4</th>\n",
       "      <td>278830</td>\n",
       "      <td>https://www.airbnb.com/rooms/278830</td>\n",
       "      <td>20160104002432</td>\n",
       "      <td>2016-01-04</td>\n",
       "      <td>Charming craftsman 3 bdm house</td>\n",
       "      <td>Cozy family craftman house in beautiful neighb...</td>\n",
       "      <td>Cozy family craftman house in beautiful neighb...</td>\n",
       "      <td>Cozy family craftman house in beautiful neighb...</td>\n",
       "      <td>none</td>\n",
       "      <td>We are in the beautiful neighborhood of Queen ...</td>\n",
       "      <td>...</td>\n",
       "      <td>9.0</td>\n",
       "      <td>f</td>\n",
       "      <td>NaN</td>\n",
       "      <td>WASHINGTON</td>\n",
       "      <td>f</td>\n",
       "      <td>strict</td>\n",
       "      <td>f</td>\n",
       "      <td>f</td>\n",
       "      <td>1</td>\n",
       "      <td>0.89</td>\n",
       "    </tr>\n",
       "  </tbody>\n",
       "</table>\n",
       "<p>5 rows × 92 columns</p>\n",
       "</div>"
      ],
      "text/plain": [
       "        id                           listing_url       scrape_id last_scraped  \\\n",
       "0   241032   https://www.airbnb.com/rooms/241032  20160104002432   2016-01-04   \n",
       "1   953595   https://www.airbnb.com/rooms/953595  20160104002432   2016-01-04   \n",
       "2  3308979  https://www.airbnb.com/rooms/3308979  20160104002432   2016-01-04   \n",
       "3  7421966  https://www.airbnb.com/rooms/7421966  20160104002432   2016-01-04   \n",
       "4   278830   https://www.airbnb.com/rooms/278830  20160104002432   2016-01-04   \n",
       "\n",
       "                                  name  \\\n",
       "0         Stylish Queen Anne Apartment   \n",
       "1   Bright & Airy Queen Anne Apartment   \n",
       "2  New Modern House-Amazing water view   \n",
       "3                   Queen Anne Chateau   \n",
       "4       Charming craftsman 3 bdm house   \n",
       "\n",
       "                                             summary  \\\n",
       "0                                                NaN   \n",
       "1  Chemically sensitive? We've removed the irrita...   \n",
       "2  New modern house built in 2013.  Spectacular s...   \n",
       "3  A charming apartment that sits atop Queen Anne...   \n",
       "4  Cozy family craftman house in beautiful neighb...   \n",
       "\n",
       "                                               space  \\\n",
       "0  Make your self at home in this charming one-be...   \n",
       "1  Beautiful, hypoallergenic apartment in an extr...   \n",
       "2  Our house is modern, light and fresh with a wa...   \n",
       "3                                                NaN   \n",
       "4  Cozy family craftman house in beautiful neighb...   \n",
       "\n",
       "                                         description experiences_offered  \\\n",
       "0  Make your self at home in this charming one-be...                none   \n",
       "1  Chemically sensitive? We've removed the irrita...                none   \n",
       "2  New modern house built in 2013.  Spectacular s...                none   \n",
       "3  A charming apartment that sits atop Queen Anne...                none   \n",
       "4  Cozy family craftman house in beautiful neighb...                none   \n",
       "\n",
       "                               neighborhood_overview  ... review_scores_value  \\\n",
       "0                                                NaN  ...                10.0   \n",
       "1  Queen Anne is a wonderful, truly functional vi...  ...                10.0   \n",
       "2  Upper Queen Anne is a charming neighborhood fu...  ...                10.0   \n",
       "3                                                NaN  ...                 NaN   \n",
       "4  We are in the beautiful neighborhood of Queen ...  ...                 9.0   \n",
       "\n",
       "  requires_license license jurisdiction_names instant_bookable  \\\n",
       "0                f     NaN         WASHINGTON                f   \n",
       "1                f     NaN         WASHINGTON                f   \n",
       "2                f     NaN         WASHINGTON                f   \n",
       "3                f     NaN         WASHINGTON                f   \n",
       "4                f     NaN         WASHINGTON                f   \n",
       "\n",
       "  cancellation_policy  require_guest_profile_picture  \\\n",
       "0            moderate                              f   \n",
       "1              strict                              t   \n",
       "2              strict                              f   \n",
       "3            flexible                              f   \n",
       "4              strict                              f   \n",
       "\n",
       "  require_guest_phone_verification calculated_host_listings_count  \\\n",
       "0                                f                              2   \n",
       "1                                t                              6   \n",
       "2                                f                              2   \n",
       "3                                f                              1   \n",
       "4                                f                              1   \n",
       "\n",
       "  reviews_per_month  \n",
       "0              4.07  \n",
       "1              1.48  \n",
       "2              1.15  \n",
       "3               NaN  \n",
       "4              0.89  \n",
       "\n",
       "[5 rows x 92 columns]"
      ]
     },
     "execution_count": 10,
     "metadata": {},
     "output_type": "execute_result"
    }
   ],
   "source": [
    "df2.head(5)"
   ]
  },
  {
   "cell_type": "markdown",
   "metadata": {},
   "source": [
    "from looking at these datasets I can summurize these three datasets as belowe:"
   ]
  },
  {
   "cell_type": "markdown",
   "metadata": {},
   "source": [
    "#####   - Calender (df1) \n",
    "it's contain the price based on histircal date start from Jan-2016 to Jan-2017\n",
    "#####   - listing (df2) \n",
    "it's contain all the information about the properties and also it's shows the price but for just the time when the data were scrap."
   ]
  },
  {
   "cell_type": "markdown",
   "metadata": {},
   "source": [
    "checking  the number of rwos,columns and checking the missing valuse."
   ]
  },
  {
   "cell_type": "code",
   "execution_count": 17,
   "metadata": {},
   "outputs": [
    {
     "name": "stdout",
     "output_type": "stream",
     "text": [
      "~~~~~~~~~~~~~~~~~~~~~~~~~shape of dataset name Calendar~~~~~~~~~~~~~~~~~~~~~~~~~\n",
      "Rows:1393570\n",
      "Columns:4\n",
      "~~~~~~~~~~~~~~~~~~~~~~~~~shape of dataset name listings~~~~~~~~~~~~~~~~~~~~~~~~~\n",
      "Rows:3818\n",
      "Columns:92\n"
     ]
    }
   ],
   "source": [
    "# exploring the data bychecking  the number of rwos and columns\n",
    "print(\"shape of dataset name Calendar\".center(80,\"~\"))\n",
    "print(\"Rows:{}\".format(df1.shape[0]))\n",
    "print(\"Columns:{}\".format(df1.shape[1]))\n",
    "print(\"shape of dataset name listings\".center(80,\"~\"))\n",
    "print(\"Rows:{}\".format(df2.shape[0]))\n",
    "print(\"Columns:{}\".format(df2.shape[1]))\n",
    "\n"
   ]
  },
  {
   "cell_type": "code",
   "execution_count": 18,
   "metadata": {},
   "outputs": [
    {
     "name": "stdout",
     "output_type": "stream",
     "text": [
      "~~~~~~~~~~~~~~~~~~~~Columns with Na of dataset name Calendar~~~~~~~~~~~~~~~~~~~~\n",
      "price    459028\n",
      "dtype: int64\n",
      "~~~~~~~~~~~~~~~~~~~~Columns with Na of dataset name listing~~~~~~~~~~~~~~~~~~~~~\n",
      "summary                         177\n",
      "space                           569\n",
      "neighborhood_overview          1032\n",
      "notes                          1606\n",
      "transit                         934\n",
      "thumbnail_url                   320\n",
      "medium_url                      320\n",
      "xl_picture_url                  320\n",
      "host_name                         2\n",
      "host_since                        2\n",
      "host_location                     8\n",
      "host_about                      859\n",
      "host_response_time              523\n",
      "host_response_rate              523\n",
      "host_acceptance_rate            773\n",
      "host_is_superhost                 2\n",
      "host_thumbnail_url                2\n",
      "host_picture_url                  2\n",
      "host_neighbourhood              300\n",
      "host_listings_count               2\n",
      "host_total_listings_count         2\n",
      "host_has_profile_pic              2\n",
      "host_identity_verified            2\n",
      "neighbourhood                   416\n",
      "zipcode                           7\n",
      "property_type                     1\n",
      "bathrooms                        16\n",
      "bedrooms                          6\n",
      "beds                              1\n",
      "square_feet                    3721\n",
      "weekly_price                   1809\n",
      "monthly_price                  2301\n",
      "security_deposit               1952\n",
      "cleaning_fee                   1030\n",
      "first_review                    627\n",
      "last_review                     627\n",
      "review_scores_rating            647\n",
      "review_scores_accuracy          658\n",
      "review_scores_cleanliness       653\n",
      "review_scores_checkin           658\n",
      "review_scores_communication     651\n",
      "review_scores_location          655\n",
      "review_scores_value             656\n",
      "license                        3818\n",
      "reviews_per_month               627\n",
      "dtype: int64\n"
     ]
    }
   ],
   "source": [
    "# exploring the data by checking the number Na values \n",
    "def na1(df):\n",
    "    na_columns1 = [col for col in df.columns if df[col].isnull().sum() > 0]\n",
    "    count_Na1 = df[na_columns1].isnull().sum()\n",
    "    return count_Na1\n",
    "    \n",
    "print(\"Columns with Na of dataset name Calendar\".center(80,\"~\"))\n",
    "print(na1(df1))\n",
    "print(\"Columns with Na of dataset name listing\".center(80,\"~\"))\n",
    "print(na1(df2))\n"
   ]
  },
  {
   "cell_type": "markdown",
   "metadata": {},
   "source": [
    "as we can see there is alot of missing values in the price coulmn at Calender datasets, I will drop these rows cause the price is my main varible in this datasets and if it Na i couldn't use it. Alos I will creat a new dataset with just the coulmns that I'll use in my analysis.\n"
   ]
  },
  {
   "cell_type": "code",
   "execution_count": 32,
   "metadata": {},
   "outputs": [],
   "source": [
    "# creating a copy for my data sets\n",
    "df1_2 = df1.copy()\n",
    "df2_2 = df2.copy()"
   ]
  },
  {
   "cell_type": "code",
   "execution_count": 14,
   "metadata": {},
   "outputs": [
    {
     "name": "stdout",
     "output_type": "stream",
     "text": [
      "~~~~~~~~~~~~~~~~~~~~~~~~  proportion of price non null  ~~~~~~~~~~~~~~~~~~~~~~~~\n",
      "0.6706100160020666\n"
     ]
    }
   ],
   "source": [
    "# proportion of price non null\n",
    "proportion_of_price_CalenderDatast = df1_2.price.count()/df1_2.shape[0]\n",
    "print(\"  proportion of price non null  \".center(80,\"~\"))\n",
    "print(proportion_of_price_CalenderDatast)"
   ]
  },
  {
   "cell_type": "markdown",
   "metadata": {},
   "source": [
    "If I remove the Na values in price columns at Calender dataset it's will leave me with 68% of the entire data and I am comfortable with this action."
   ]
  },
  {
   "cell_type": "code",
   "execution_count": 33,
   "metadata": {},
   "outputs": [],
   "source": [
    "#droping the Na values and the columns that i do not need\n",
    "df1_2 = df1_2.dropna(how='any',subset=['price'])\n",
    "df2_2 = df2_2.drop(['listing_url', 'scrape_id', 'last_scraped', 'name','thumbnail_url', 'medium_url', 'picture_url',\n",
    "       'xl_picture_url', 'host_id', 'host_url', 'host_name','host_thumbnail_url', 'host_picture_url', 'host_listings_count', 'host_total_listings_count','requires_license'\n",
    "       ,'license','jurisdiction_names','calculated_host_listings_count','reviews_per_month','notes', 'transit', 'host_since',\n",
    "       'host_location', 'host_about', 'host_response_time',\n",
    "       'host_response_rate', 'host_acceptance_rate', 'host_is_superhost',\n",
    "       'host_neighbourhood', 'host_verifications', 'host_has_profile_pic',\n",
    "       'host_identity_verified','neighbourhood_cleansed', 'neighbourhood_group_cleansed','review_scores_accuracy',\n",
    "       'review_scores_cleanliness', 'review_scores_checkin',\n",
    "       'review_scores_communication', 'review_scores_location',\n",
    "       'review_scores_value', 'instant_bookable', 'cancellation_policy','first_review', 'last_review','require_guest_profile_picture',\n",
    "       'require_guest_phone_verification'],axis=1)"
   ]
  },
  {
   "cell_type": "code",
   "execution_count": 34,
   "metadata": {},
   "outputs": [
    {
     "data": {
      "text/plain": [
       "Index(['id', 'summary', 'space', 'description', 'experiences_offered',\n",
       "       'neighborhood_overview', 'street', 'neighbourhood', 'city', 'state',\n",
       "       'zipcode', 'market', 'smart_location', 'country_code', 'country',\n",
       "       'latitude', 'longitude', 'is_location_exact', 'property_type',\n",
       "       'room_type', 'accommodates', 'bathrooms', 'bedrooms', 'beds',\n",
       "       'bed_type', 'amenities', 'square_feet', 'price', 'weekly_price',\n",
       "       'monthly_price', 'security_deposit', 'cleaning_fee', 'guests_included',\n",
       "       'extra_people', 'minimum_nights', 'maximum_nights', 'calendar_updated',\n",
       "       'has_availability', 'availability_30', 'availability_60',\n",
       "       'availability_90', 'availability_365', 'calendar_last_scraped',\n",
       "       'number_of_reviews', 'review_scores_rating'],\n",
       "      dtype='object')"
      ]
     },
     "execution_count": 34,
     "metadata": {},
     "output_type": "execute_result"
    }
   ],
   "source": [
    "df2_2.columns"
   ]
  },
  {
   "cell_type": "code",
   "execution_count": 35,
   "metadata": {},
   "outputs": [
    {
     "name": "stdout",
     "output_type": "stream",
     "text": [
      "~~~~~~~~~~~~~~~~Number of Uniqe values of dataset name Calendar~~~~~~~~~~~~~~~~~\n",
      "     Varaible  Count Of Unique Values\n",
      "0  listing_id                    3723\n",
      "3       price                     669\n",
      "1        date                     365\n",
      "2   available                       1\n",
      "~~~~~~~~~~~~~~~~~Number of Uniqe values of dataset name listing~~~~~~~~~~~~~~~~~\n",
      "                 Varaible  Count Of Unique Values\n",
      "0                      id                    3818\n",
      "16              longitude                    3818\n",
      "15               latitude                    3818\n",
      "3             description                    3742\n",
      "1                 summary                    3478\n",
      "25              amenities                    3284\n",
      "2                   space                    3119\n",
      "5   neighborhood_overview                    2506\n",
      "6                  street                    1442\n",
      "28           weekly_price                     395\n",
      "41       availability_365                     363\n",
      "29          monthly_price                     356\n",
      "27                  price                     273\n",
      "43      number_of_reviews                     195\n",
      "31           cleaning_fee                     118\n",
      "40        availability_90                      91\n",
      "7           neighbourhood                      81\n",
      "35         maximum_nights                      68\n",
      "39        availability_60                      61\n",
      "26            square_feet                      47\n",
      "30       security_deposit                      46\n",
      "33           extra_people                      45\n",
      "44   review_scores_rating                      42\n",
      "36       calendar_updated                      34\n",
      "38        availability_30                      31\n",
      "10                zipcode                      28\n",
      "34         minimum_nights                      22\n",
      "18          property_type                      16\n",
      "32        guests_included                      15\n",
      "20           accommodates                      15\n",
      "21              bathrooms                      12\n",
      "23                   beds                      11\n",
      "22               bedrooms                       8\n",
      "12         smart_location                       7\n",
      "8                    city                       7\n",
      "24               bed_type                       5\n",
      "19              room_type                       3\n",
      "17      is_location_exact                       2\n",
      "9                   state                       2\n",
      "13           country_code                       1\n",
      "11                 market                       1\n",
      "14                country                       1\n",
      "37       has_availability                       1\n",
      "42  calendar_last_scraped                       1\n",
      "4     experiences_offered                       1\n"
     ]
    }
   ],
   "source": [
    "# exploring the data by checking count of Unique values \n",
    "def uniqe1(df):\n",
    "    u = pd.DataFrame({\"Varaible\" : df.columns , \"Count Of Unique Values\" : [df[i].nunique() for i in df.columns]})\n",
    "    u = u.sort_values('Count Of Unique Values',ascending=False)\n",
    "    return u\n",
    "print(\"Number of Uniqe values of dataset name Calendar\".center(80,\"~\"))\n",
    "print(uniqe1(df1_2))\n",
    "print(\"Number of Uniqe values of dataset name listing\".center(80,\"~\"))\n",
    "print(uniqe1(df2_2))\n"
   ]
  },
  {
   "cell_type": "markdown",
   "metadata": {},
   "source": [
    "After exploring the Calendes dataset it shows the price and date , Also it's has a listing_id so I can merge the dataset with the listinge dataset so I can see if there is a corrlation between the price and the proporety typy."
   ]
  },
  {
   "cell_type": "markdown",
   "metadata": {},
   "source": [
    "### ______________________________ QUEASTION1________________________________________ \n",
    " * is the priece ralated to the appartment type?"
   ]
  },
  {
   "cell_type": "code",
   "execution_count": 19,
   "metadata": {},
   "outputs": [
    {
     "data": {
      "text/plain": [
       "House              1733\n",
       "Apartment          1708\n",
       "Townhouse           118\n",
       "Condominium          91\n",
       "Loft                 40\n",
       "Bed & Breakfast      37\n",
       "Other                22\n",
       "Cabin                21\n",
       "Camper/RV            13\n",
       "Bungalow             13\n",
       "Boat                  8\n",
       "Tent                  5\n",
       "Treehouse             3\n",
       "Dorm                  2\n",
       "Chalet                2\n",
       "Yurt                  1\n",
       "Name: property_type, dtype: int64"
      ]
     },
     "execution_count": 19,
     "metadata": {},
     "output_type": "execute_result"
    }
   ],
   "source": [
    "# First let's see the count of property for every property type\n",
    "count_of_property_for_each_type = df2_2.property_type.value_counts()\n",
    "count_of_property_for_each_type"
   ]
  },
  {
   "cell_type": "code",
   "execution_count": 45,
   "metadata": {},
   "outputs": [],
   "source": [
    "# changing the datatypes of the id columns\n",
    "df1_2['listing_id'] = df1_2['listing_id'].astype(str)\n",
    "df2_2['id'] = df2_2['id'].astype(str)"
   ]
  },
  {
   "cell_type": "code",
   "execution_count": null,
   "metadata": {},
   "outputs": [],
   "source": [
    "# changing the datatypes of the price columns\n",
    "# also i need to remove the dollar sign and comma \n",
    "df1_2['price'] = df1_2['price'].str.replace('$', '')\n",
    "df1_2['price'] = df1_2['price'].str.replace(',', '')\n",
    "df1_2['price'] = df1_2['price'].astype(float)\n",
    "df2_2['price'] = df2_2['price'].str.replace('$', '')\n",
    "df2_2['price'] = df2_2['price'].str.replace(',', '')\n",
    "df2_2['price'] = df2_2['price'].astype(float)\n",
    "df1_2['listing_id'] = df1_2['listing_id'].astype(str)\n",
    "df2_2['id'] = df2_2['id'].astype(str)"
   ]
  },
  {
   "cell_type": "markdown",
   "metadata": {},
   "source": [
    "I need to merge the listing and the Calender datasets i'll marge just the coulmn that I need from listing, I will use calender as left merge.  \n",
    "\n",
    "At first I need to rename the 'listing_id' from calender to 'id'"
   ]
  },
  {
   "cell_type": "code",
   "execution_count": 62,
   "metadata": {},
   "outputs": [],
   "source": [
    "df1_2.rename(columns={'listing_id': \"id\"}, inplace=True)\n",
    "m1 = pd.merge(df1_2,df2_2[['id','property_type','amenities']],how=\"left\",on='id')"
   ]
  },
  {
   "cell_type": "code",
   "execution_count": 63,
   "metadata": {},
   "outputs": [
    {
     "name": "stdout",
     "output_type": "stream",
     "text": [
      "(934542, 5)\n",
      "(934542, 4)\n"
     ]
    }
   ],
   "source": [
    "#cheching the number of Rows for the new datasets\n",
    "print(q1.shape)\n",
    "print(df1_2.shape)"
   ]
  },
  {
   "cell_type": "markdown",
   "metadata": {},
   "source": [
    "As we see the dataset that I just creat by merging the calender and listing has the same row count of calender data set, that mean the merge is correct."
   ]
  },
  {
   "cell_type": "code",
   "execution_count": 53,
   "metadata": {},
   "outputs": [
    {
     "data": {
      "text/html": [
       "<div>\n",
       "<style scoped>\n",
       "    .dataframe tbody tr th:only-of-type {\n",
       "        vertical-align: middle;\n",
       "    }\n",
       "\n",
       "    .dataframe tbody tr th {\n",
       "        vertical-align: top;\n",
       "    }\n",
       "\n",
       "    .dataframe thead th {\n",
       "        text-align: right;\n",
       "    }\n",
       "</style>\n",
       "<table border=\"1\" class=\"dataframe\">\n",
       "  <thead>\n",
       "    <tr style=\"text-align: right;\">\n",
       "      <th></th>\n",
       "      <th>property_type</th>\n",
       "      <th>price</th>\n",
       "    </tr>\n",
       "  </thead>\n",
       "  <tbody>\n",
       "    <tr>\n",
       "      <th>0</th>\n",
       "      <td>Apartment</td>\n",
       "      <td>139.285106</td>\n",
       "    </tr>\n",
       "    <tr>\n",
       "      <th>1</th>\n",
       "      <td>Bed &amp; Breakfast</td>\n",
       "      <td>116.048976</td>\n",
       "    </tr>\n",
       "    <tr>\n",
       "      <th>2</th>\n",
       "      <td>Boat</td>\n",
       "      <td>330.618901</td>\n",
       "    </tr>\n",
       "    <tr>\n",
       "      <th>3</th>\n",
       "      <td>Bungalow</td>\n",
       "      <td>124.330813</td>\n",
       "    </tr>\n",
       "    <tr>\n",
       "      <th>4</th>\n",
       "      <td>Cabin</td>\n",
       "      <td>114.292208</td>\n",
       "    </tr>\n",
       "    <tr>\n",
       "      <th>5</th>\n",
       "      <td>Camper/RV</td>\n",
       "      <td>126.931055</td>\n",
       "    </tr>\n",
       "    <tr>\n",
       "      <th>6</th>\n",
       "      <td>Chalet</td>\n",
       "      <td>93.509009</td>\n",
       "    </tr>\n",
       "    <tr>\n",
       "      <th>7</th>\n",
       "      <td>Condominium</td>\n",
       "      <td>169.646416</td>\n",
       "    </tr>\n",
       "    <tr>\n",
       "      <th>8</th>\n",
       "      <td>Dorm</td>\n",
       "      <td>39.384977</td>\n",
       "    </tr>\n",
       "    <tr>\n",
       "      <th>9</th>\n",
       "      <td>House</td>\n",
       "      <td>136.627935</td>\n",
       "    </tr>\n",
       "    <tr>\n",
       "      <th>10</th>\n",
       "      <td>Loft</td>\n",
       "      <td>133.465979</td>\n",
       "    </tr>\n",
       "    <tr>\n",
       "      <th>11</th>\n",
       "      <td>Other</td>\n",
       "      <td>106.402906</td>\n",
       "    </tr>\n",
       "    <tr>\n",
       "      <th>12</th>\n",
       "      <td>Tent</td>\n",
       "      <td>57.540046</td>\n",
       "    </tr>\n",
       "    <tr>\n",
       "      <th>13</th>\n",
       "      <td>Townhouse</td>\n",
       "      <td>133.011563</td>\n",
       "    </tr>\n",
       "    <tr>\n",
       "      <th>14</th>\n",
       "      <td>Treehouse</td>\n",
       "      <td>64.346211</td>\n",
       "    </tr>\n",
       "    <tr>\n",
       "      <th>15</th>\n",
       "      <td>Yurt</td>\n",
       "      <td>105.423729</td>\n",
       "    </tr>\n",
       "  </tbody>\n",
       "</table>\n",
       "</div>"
      ],
      "text/plain": [
       "      property_type       price\n",
       "0         Apartment  139.285106\n",
       "1   Bed & Breakfast  116.048976\n",
       "2              Boat  330.618901\n",
       "3          Bungalow  124.330813\n",
       "4             Cabin  114.292208\n",
       "5         Camper/RV  126.931055\n",
       "6            Chalet   93.509009\n",
       "7       Condominium  169.646416\n",
       "8              Dorm   39.384977\n",
       "9             House  136.627935\n",
       "10             Loft  133.465979\n",
       "11            Other  106.402906\n",
       "12             Tent   57.540046\n",
       "13        Townhouse  133.011563\n",
       "14        Treehouse   64.346211\n",
       "15             Yurt  105.423729"
      ]
     },
     "execution_count": 53,
     "metadata": {},
     "output_type": "execute_result"
    }
   ],
   "source": [
    "# grouping the property types with avreage price\n",
    "property_type_mean = q1.groupby('property_type')['price'].mean()\n",
    "property_type_average_price = pd.DataFrame(property_type_mean)\n",
    "property_type_average_price.reset_index(inplace=True)\n",
    "property_type_average_price"
   ]
  },
  {
   "cell_type": "code",
   "execution_count": 52,
   "metadata": {},
   "outputs": [
    {
     "name": "stderr",
     "output_type": "stream",
     "text": [
      "c:\\Users\\sinafisah\\Anaconda3\\lib\\site-packages\\seaborn\\_decorators.py:36: FutureWarning: Pass the following variables as keyword args: x, y. From version 0.12, the only valid positional argument will be `data`, and passing other arguments without an explicit keyword will result in an error or misinterpretation.\n",
      "  warnings.warn(\n"
     ]
    },
    {
     "data": {
      "text/plain": [
       "<AxesSubplot:xlabel='property_type', ylabel='price'>"
      ]
     },
     "execution_count": 52,
     "metadata": {},
     "output_type": "execute_result"
    },
    {
     "data": {
      "image/png": "[encoded data removed]",
      "text/plain": [
       "<Figure size 2000x500 with 1 Axes>"
      ]
     },
     "metadata": {},
     "output_type": "display_data"
    }
   ],
   "source": [
    "fig, ax = plt.subplots(figsize=(20, 5))\n",
    "sns.barplot('property_type','price',data=property_type_average_price,order=property_type_average_price.sort_values('price').property_type)"
   ]
  },
  {
   "cell_type": "markdown",
   "metadata": {},
   "source": [
    "As we see from the bar chart above the Boat has haigher price with 331 dollar as average price.\n",
    "then the Condominium with 139 dollar as average price."
   ]
  },
  {
   "cell_type": "markdown",
   "metadata": {},
   "source": [
    " ______________________________ QUEASTION2________________________________________\n",
    "\n",
    "what's the most amenities prefernce?"
   ]
  },
  {
   "cell_type": "markdown",
   "metadata": {},
   "source": [
    "\n",
    "to answer this quastion I need to check the amenities and the rete coulmns of each proporety.\n",
    "at first let's examin the amenities coulmn."
   ]
  },
  {
   "cell_type": "code",
   "execution_count": 56,
   "metadata": {},
   "outputs": [
    {
     "data": {
      "text/plain": [
       "count    3818.000000\n",
       "mean       11.509167\n",
       "std         4.572307\n",
       "min         1.000000\n",
       "25%         8.000000\n",
       "50%        11.000000\n",
       "75%        15.000000\n",
       "max        29.000000\n",
       "Name: amenities, dtype: float64"
      ]
     },
     "execution_count": 56,
     "metadata": {},
     "output_type": "execute_result"
    }
   ],
   "source": [
    "amenities_words_counts = df2['amenities'].apply(lambda x: len(x.split()))\n",
    "amenities_words_counts.describe()"
   ]
  },
  {
   "cell_type": "markdown",
   "metadata": {},
   "source": [
    "As we can see there is 11 amenitie as average for every row"
   ]
  },
  {
   "cell_type": "code",
   "execution_count": 60,
   "metadata": {},
   "outputs": [
    {
     "name": "stderr",
     "output_type": "stream",
     "text": [
      "C:\\Users\\sinafisah\\AppData\\Local\\Temp\\ipykernel_15516\\296531517.py:2: FutureWarning: The default value of regex will change from True to False in a future version.\n",
      "  amenities_words=amenities_words.str.replace('[{}\\,\\\"]',\" \")\n"
     ]
    },
    {
     "data": {
      "text/plain": [
       "internet           6478\n",
       "detector           5766\n",
       "tv                 4020\n",
       "dryer              3773\n",
       "wireless           3667\n",
       "heating            3627\n",
       "kitchen            3423\n",
       "smoke              3281\n",
       "essentials         3237\n",
       "on                 3150\n",
       "washer             2994\n",
       "friendly           2708\n",
       "shampoo            2670\n",
       "monoxide           2485\n",
       "carbon             2485\n",
       "extinguisher       2196\n",
       "fire               2196\n",
       "free               2167\n",
       "parking            2167\n",
       "premises           2167\n",
       "family/kid         1963\n",
       "first              1680\n",
       "aid                1680\n",
       "kit                1680\n",
       "cable              1446\n",
       "pets               1355\n",
       "fireplace           886\n",
       "indoor              886\n",
       "this                883\n",
       "live                883\n",
       "property            883\n",
       "hangers             846\n",
       "building            785\n",
       "in                  785\n",
       "elevator            785\n",
       "hair                774\n",
       "workspace           745\n",
       "laptop              745\n",
       "iron                742\n",
       "safety              727\n",
       "card                727\n",
       "conditioning        677\n",
       "air                 677\n",
       "24-hour             616\n",
       "check-in            616\n",
       "allowed             554\n",
       "intercom            538\n",
       "buzzer/wireless     538\n",
       "dog(s)              509\n",
       "gym                 442\n",
       "cat(s)              382\n",
       "tub                 303\n",
       "hot                 303\n",
       "accessible          300\n",
       "wheelchair          300\n",
       "breakfast           291\n",
       "suitable            209\n",
       "for                 209\n",
       "events              209\n",
       "pool                159\n",
       "dtype: int64"
      ]
     },
     "execution_count": 60,
     "metadata": {},
     "output_type": "execute_result"
    }
   ],
   "source": [
    "amenities_words = df2_2['amenities'].apply(lambda x:\" \".join(word.lower() for word in x.split()))\n",
    "amenities_words=amenities_words.str.replace('[{}\\,\\\"]',\" \")\n",
    "pd.Series(\" \".join(amenities_words).split()).value_counts()[:60]"
   ]
  },
  {
   "cell_type": "markdown",
   "metadata": {},
   "source": [
    "Now I will check the rete of properties the who have the most words repeted.\n",
    "\n",
    "Also I use the seem data set that i create but I will add a amenities column from the listing."
   ]
  },
  {
   "cell_type": "code",
   "execution_count": 67,
   "metadata": {},
   "outputs": [],
   "source": [
    "most_amenities_repeted = ['tv','detector','internet','kitchen','parking','heating','dryer']"
   ]
  },
  {
   "cell_type": "code",
   "execution_count": 66,
   "metadata": {},
   "outputs": [],
   "source": [
    "def listing_splitter(text, listing):\n",
    "    # Try except to handle np.nans in input\n",
    "    try:\n",
    "        # Extract the list of flags\n",
    "        flags = [l for l in listing if l in text.lower()]\n",
    "        # If any flags were extracted then return the list\n",
    "        if flags:\n",
    "            return 'inclode'\n",
    "        # Otherwise return np.nan\n",
    "        else:\n",
    "            return 'not_inclode'\n",
    "    except AttributeError:\n",
    "        return np.nan"
   ]
  },
  {
   "cell_type": "code",
   "execution_count": 68,
   "metadata": {},
   "outputs": [],
   "source": [
    "m1['most_amenities_repeted'] = m1['amenities'].apply(lambda x: listing_splitter(x,most_amenities_repeted))"
   ]
  },
  {
   "cell_type": "code",
   "execution_count": 69,
   "metadata": {},
   "outputs": [
    {
     "data": {
      "text/html": [
       "<div>\n",
       "<style scoped>\n",
       "    .dataframe tbody tr th:only-of-type {\n",
       "        vertical-align: middle;\n",
       "    }\n",
       "\n",
       "    .dataframe tbody tr th {\n",
       "        vertical-align: top;\n",
       "    }\n",
       "\n",
       "    .dataframe thead th {\n",
       "        text-align: right;\n",
       "    }\n",
       "</style>\n",
       "<table border=\"1\" class=\"dataframe\">\n",
       "  <thead>\n",
       "    <tr style=\"text-align: right;\">\n",
       "      <th></th>\n",
       "      <th>id</th>\n",
       "      <th>date</th>\n",
       "      <th>available</th>\n",
       "      <th>price</th>\n",
       "      <th>property_type</th>\n",
       "      <th>amenities</th>\n",
       "      <th>most_amenities_repeted</th>\n",
       "    </tr>\n",
       "  </thead>\n",
       "  <tbody>\n",
       "    <tr>\n",
       "      <th>0</th>\n",
       "      <td>241032</td>\n",
       "      <td>2016-01-04</td>\n",
       "      <td>t</td>\n",
       "      <td>85.0</td>\n",
       "      <td>Apartment</td>\n",
       "      <td>{TV,\"Cable TV\",Internet,\"Wireless Internet\",\"A...</td>\n",
       "      <td>inclode</td>\n",
       "    </tr>\n",
       "    <tr>\n",
       "      <th>1</th>\n",
       "      <td>241032</td>\n",
       "      <td>2016-01-05</td>\n",
       "      <td>t</td>\n",
       "      <td>85.0</td>\n",
       "      <td>Apartment</td>\n",
       "      <td>{TV,\"Cable TV\",Internet,\"Wireless Internet\",\"A...</td>\n",
       "      <td>inclode</td>\n",
       "    </tr>\n",
       "    <tr>\n",
       "      <th>2</th>\n",
       "      <td>241032</td>\n",
       "      <td>2016-01-13</td>\n",
       "      <td>t</td>\n",
       "      <td>85.0</td>\n",
       "      <td>Apartment</td>\n",
       "      <td>{TV,\"Cable TV\",Internet,\"Wireless Internet\",\"A...</td>\n",
       "      <td>inclode</td>\n",
       "    </tr>\n",
       "    <tr>\n",
       "      <th>3</th>\n",
       "      <td>241032</td>\n",
       "      <td>2016-01-14</td>\n",
       "      <td>t</td>\n",
       "      <td>85.0</td>\n",
       "      <td>Apartment</td>\n",
       "      <td>{TV,\"Cable TV\",Internet,\"Wireless Internet\",\"A...</td>\n",
       "      <td>inclode</td>\n",
       "    </tr>\n",
       "    <tr>\n",
       "      <th>4</th>\n",
       "      <td>241032</td>\n",
       "      <td>2016-01-18</td>\n",
       "      <td>t</td>\n",
       "      <td>85.0</td>\n",
       "      <td>Apartment</td>\n",
       "      <td>{TV,\"Cable TV\",Internet,\"Wireless Internet\",\"A...</td>\n",
       "      <td>inclode</td>\n",
       "    </tr>\n",
       "    <tr>\n",
       "      <th>5</th>\n",
       "      <td>241032</td>\n",
       "      <td>2016-01-19</td>\n",
       "      <td>t</td>\n",
       "      <td>85.0</td>\n",
       "      <td>Apartment</td>\n",
       "      <td>{TV,\"Cable TV\",Internet,\"Wireless Internet\",\"A...</td>\n",
       "      <td>inclode</td>\n",
       "    </tr>\n",
       "    <tr>\n",
       "      <th>6</th>\n",
       "      <td>241032</td>\n",
       "      <td>2016-01-20</td>\n",
       "      <td>t</td>\n",
       "      <td>85.0</td>\n",
       "      <td>Apartment</td>\n",
       "      <td>{TV,\"Cable TV\",Internet,\"Wireless Internet\",\"A...</td>\n",
       "      <td>inclode</td>\n",
       "    </tr>\n",
       "    <tr>\n",
       "      <th>7</th>\n",
       "      <td>241032</td>\n",
       "      <td>2016-01-24</td>\n",
       "      <td>t</td>\n",
       "      <td>85.0</td>\n",
       "      <td>Apartment</td>\n",
       "      <td>{TV,\"Cable TV\",Internet,\"Wireless Internet\",\"A...</td>\n",
       "      <td>inclode</td>\n",
       "    </tr>\n",
       "    <tr>\n",
       "      <th>8</th>\n",
       "      <td>241032</td>\n",
       "      <td>2016-01-25</td>\n",
       "      <td>t</td>\n",
       "      <td>85.0</td>\n",
       "      <td>Apartment</td>\n",
       "      <td>{TV,\"Cable TV\",Internet,\"Wireless Internet\",\"A...</td>\n",
       "      <td>inclode</td>\n",
       "    </tr>\n",
       "    <tr>\n",
       "      <th>9</th>\n",
       "      <td>241032</td>\n",
       "      <td>2016-01-26</td>\n",
       "      <td>t</td>\n",
       "      <td>85.0</td>\n",
       "      <td>Apartment</td>\n",
       "      <td>{TV,\"Cable TV\",Internet,\"Wireless Internet\",\"A...</td>\n",
       "      <td>inclode</td>\n",
       "    </tr>\n",
       "  </tbody>\n",
       "</table>\n",
       "</div>"
      ],
      "text/plain": [
       "       id        date available  price property_type  \\\n",
       "0  241032  2016-01-04         t   85.0     Apartment   \n",
       "1  241032  2016-01-05         t   85.0     Apartment   \n",
       "2  241032  2016-01-13         t   85.0     Apartment   \n",
       "3  241032  2016-01-14         t   85.0     Apartment   \n",
       "4  241032  2016-01-18         t   85.0     Apartment   \n",
       "5  241032  2016-01-19         t   85.0     Apartment   \n",
       "6  241032  2016-01-20         t   85.0     Apartment   \n",
       "7  241032  2016-01-24         t   85.0     Apartment   \n",
       "8  241032  2016-01-25         t   85.0     Apartment   \n",
       "9  241032  2016-01-26         t   85.0     Apartment   \n",
       "\n",
       "                                           amenities most_amenities_repeted  \n",
       "0  {TV,\"Cable TV\",Internet,\"Wireless Internet\",\"A...                inclode  \n",
       "1  {TV,\"Cable TV\",Internet,\"Wireless Internet\",\"A...                inclode  \n",
       "2  {TV,\"Cable TV\",Internet,\"Wireless Internet\",\"A...                inclode  \n",
       "3  {TV,\"Cable TV\",Internet,\"Wireless Internet\",\"A...                inclode  \n",
       "4  {TV,\"Cable TV\",Internet,\"Wireless Internet\",\"A...                inclode  \n",
       "5  {TV,\"Cable TV\",Internet,\"Wireless Internet\",\"A...                inclode  \n",
       "6  {TV,\"Cable TV\",Internet,\"Wireless Internet\",\"A...                inclode  \n",
       "7  {TV,\"Cable TV\",Internet,\"Wireless Internet\",\"A...                inclode  \n",
       "8  {TV,\"Cable TV\",Internet,\"Wireless Internet\",\"A...                inclode  \n",
       "9  {TV,\"Cable TV\",Internet,\"Wireless Internet\",\"A...                inclode  "
      ]
     },
     "execution_count": 69,
     "metadata": {},
     "output_type": "execute_result"
    }
   ],
   "source": [
    "m1.head(10)"
   ]
  },
  {
   "cell_type": "markdown",
   "metadata": {},
   "source": [
    "Now I have coulumns deterimn if the property have there amenities or not"
   ]
  },
  {
   "cell_type": "code",
   "execution_count": 70,
   "metadata": {},
   "outputs": [
    {
     "data": {
      "text/plain": [
       "<AxesSubplot:xlabel='most_amenities_repeted'>"
      ]
     },
     "execution_count": 70,
     "metadata": {},
     "output_type": "execute_result"
    },
    {
     "data": {
      "image/png": "[encoded data removed]",
      "text/plain": [
       "<Figure size 640x480 with 1 Axes>"
      ]
     },
     "metadata": {},
     "output_type": "display_data"
    }
   ],
   "source": [
    "m1.groupby('most_amenities_repeted')['price'].mean().plot(kind='bar')"
   ]
  },
  {
   "cell_type": "markdown",
   "metadata": {},
   "source": [
    "------------------- Quastion 3 -----------------------\n",
    "\n",
    "- Is the price affected by seasons?"
   ]
  },
  {
   "cell_type": "markdown",
   "metadata": {},
   "source": [
    "At first I need to crete new column that combine the moth and the year"
   ]
  },
  {
   "cell_type": "code",
   "execution_count": 73,
   "metadata": {},
   "outputs": [],
   "source": [
    "m1['month_year'] = pd.to_datetime(m1['date']).dt.to_period('M')"
   ]
  },
  {
   "cell_type": "code",
   "execution_count": 76,
   "metadata": {},
   "outputs": [
    {
     "data": {
      "text/plain": [
       "<AxesSubplot:xlabel='month_year'>"
      ]
     },
     "execution_count": 76,
     "metadata": {},
     "output_type": "execute_result"
    },
    {
     "data": {
      "image/png": "[encoded data removed]",
      "text/plain": [
       "<Figure size 640x480 with 1 Axes>"
      ]
     },
     "metadata": {},
     "output_type": "display_data"
    }
   ],
   "source": [
    "m1.groupby('month_year')['price'].mean().plot(kind='line', rot=0,)"
   ]
  },
  {
   "cell_type": "markdown",
   "metadata": {},
   "source": [
    "The answer for the Quastion is yes it's effected we can tell from the line chart above that's ths most highest May - Oct"
   ]
  },
  {
   "cell_type": "code",
   "execution_count": null,
   "metadata": {},
   "outputs": [],
   "source": []
  },
  {
   "cell_type": "code",
   "execution_count": null,
   "metadata": {},
   "outputs": [],
   "source": []
  }
 ],
 "metadata": {
  "kernelspec": {
   "display_name": "Python 3.9.12 ('base')",
   "language": "python",
   "name": "python3"
  },
  "language_info": {
   "codemirror_mode": {
    "name": "ipython",
    "version": 3
   },
   "file_extension": ".py",
   "mimetype": "text/x-python",
   "name": "python",
   "nbconvert_exporter": "python",
   "pygments_lexer": "ipython3",
   "version": "3.9.13"
  },
  "orig_nbformat": 4,
  "vscode": {
   "interpreter": {
    "hash": "13f71c154a79ab4f225ccb08fe890669fe2f81da9eb6235a69bec1836a195b36"
   }
  }
 },
 "nbformat": 4,
 "nbformat_minor": 2
}
